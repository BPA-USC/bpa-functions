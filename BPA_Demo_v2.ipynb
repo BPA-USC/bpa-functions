{
 "cells": [
  {
   "cell_type": "markdown",
   "metadata": {},
   "source": [
    "# Sensitivity/Specificity analysis demo"
   ]
  },
  {
   "cell_type": "markdown",
   "metadata": {},
   "source": [
    "These are some examples of queries to directly interact with the API to get some metadata:"
   ]
  },
  {
   "cell_type": "code",
   "execution_count": 9,
   "metadata": {
    "collapsed": false
   },
   "outputs": [],
   "source": [
    "from cdispyutils.hmac4 import get_auth\n",
    "import json\n",
    "import requests\n",
    "with open('.secrets','r') as f:\n",
    "    secrets = json.load(f)\n",
    "auth = get_auth(secrets['access_key'], secrets['secret_key'], 'submission')"
   ]
  },
  {
   "cell_type": "code",
   "execution_count": 10,
   "metadata": {
    "collapsed": false
   },
   "outputs": [
    {
     "name": "stdout",
     "output_type": "stream",
     "text": [
      "{\n",
      "  \"links\": [\n",
      "    \"/v0/submission/bpa\"\n",
      "  ]\n",
      "}\n",
      "{\n",
      "  \"links\": [\n",
      "    \"/v0/submission/bpa/EpicSciences_P001_T1\",\n",
      "    \"/v0/submission/bpa/GenomicHealth_P0001_T1\",\n",
      "    \"/v0/submission/bpa/Guardant_P0001_T1\",\n",
      "    \"/v0/submission/bpa/Novartis_Contrived1_T1\",\n",
      "    \"/v0/submission/bpa/PersonalGenome_Beta1\",\n",
      "    \"/v0/submission/bpa/ThermoFisher_P0001_T1\",\n",
      "    \"/v0/submission/bpa/UMich_P0001_T1\",\n",
      "    \"/v0/submission/bpa/UMich_P0002_T1\",\n",
      "    \"/v0/submission/bpa/USC_OPT1_T1\",\n",
      "    \"/v0/submission/bpa/ThermoFisher_P0002_T1\",\n",
      "    \"/v0/submission/bpa/test\"\n",
      "  ]\n",
      "}\n"
     ]
    }
   ],
   "source": [
    "print requests.get('http://api.internal.io/v0/submission', auth=auth).text\n",
    "print requests.get('http://api.internal.io/v0/submission/bpa/', auth=auth).text"
   ]
  },
  {
   "cell_type": "code",
   "execution_count": 11,
   "metadata": {
    "collapsed": false
   },
   "outputs": [
    {
     "name": "stdout",
     "output_type": "stream",
     "text": [
      "{\n",
      "  \"data\": {\n",
      "    \"experiment\": [\n",
      "      {\n",
      "        \"experimental_description\": \"Detection of Rare Variants in cfDNA Control\",\n",
      "        \"experimental_intent\": \"analytical validation\",\n",
      "        \"number_samples_per_experimental_group\": 32,\n",
      "        \"type_of_sample\": \"contrived\",\n",
      "        \"type_of_specimen\": \"DNA\"\n",
      "      }\n",
      "    ]\n",
      "  }\n",
      "}\n"
     ]
    }
   ],
   "source": [
    "data = {'query': \"\"\"query Test { sample (project_id: \"bpa-ThermoFisher_P0001_T1\", submitter_id: \"BPA-THERMOFISHER_P0001-S1\") {   \n",
    "                                 _aliquots_count aliquots { aliquot_concentration  _read_groups_count read_groups {\n",
    "                                _submitted_somatic_mutations_count submitted_somatic_mutations {\n",
    "                                file_name}} } }} \"\"\"};\n",
    "print requests.post('http://api.internal.io/v0/submission/graphql/', auth=auth, json=data).text"
   ]
  },
  {
   "cell_type": "markdown",
   "metadata": {},
   "source": [
    "This example shows how to analyze data from one specific project in BloodPAC containing expected mutations from contrived samples and resulting VCF files"
   ]
  },
  {
   "cell_type": "code",
   "execution_count": 4,
   "metadata": {
    "collapsed": false
   },
   "outputs": [],
   "source": [
    "import bpa_analysis_functions_v2 as bp"
   ]
  },
  {
   "cell_type": "markdown",
   "metadata": {},
   "source": [
    "Get the project name we are going to analyze, local path to save project files and user profile to access their bucket:"
   ]
  },
  {
   "cell_type": "code",
   "execution_count": 5,
   "metadata": {
    "collapsed": false
   },
   "outputs": [],
   "source": [
    "project = 'bpa-ThermoFisher_P0001_T1'\n",
    "profile = 'bloodpac'\n",
    "path    = 'files/'"
   ]
  },
  {
   "cell_type": "markdown",
   "metadata": {},
   "source": [
    "Get project files from bucket to a local directory:"
   ]
  },
  {
   "cell_type": "code",
   "execution_count": 6,
   "metadata": {
    "collapsed": false
   },
   "outputs": [
    {
     "name": "stdout",
     "output_type": "stream",
     "text": [
      "Getting files...\n",
      "Finished\n"
     ]
    }
   ],
   "source": [
    "bp.get_files_from_bucket(project, profile, path)"
   ]
  },
  {
   "cell_type": "markdown",
   "metadata": {},
   "source": [
    "List samples for this project:"
   ]
  },
  {
   "cell_type": "code",
   "execution_count": 15,
   "metadata": {
    "collapsed": false
   },
   "outputs": [
    {
     "data": {
      "text/plain": [
       "['BPA-THERMOFISHER_P0001-S1',\n",
       " 'BPA-THERMOFISHER_P0001-S2',\n",
       " 'BPA-THERMOFISHER_P0001-S3',\n",
       " 'BPA-THERMOFISHER_P0001-S4']"
      ]
     },
     "execution_count": 15,
     "metadata": {},
     "output_type": "execute_result"
    }
   ],
   "source": [
    "samples = bp.list_samples(project)\n",
    "samples"
   ]
  },
  {
   "cell_type": "markdown",
   "metadata": {},
   "source": [
    "List and count file types contained in this project"
   ]
  },
  {
   "cell_type": "code",
   "execution_count": 16,
   "metadata": {
    "collapsed": false
   },
   "outputs": [
    {
     "data": {
      "text/plain": [
       "{'BPA-THERMOFISHER_P0001-S2': ['TFS.HZ.1.0.perc_10ng_TSVC_IonCodeTag_0112.vcf',\n",
       "  'TFS.HZ.1.0.perc_10ng_TSVC_IonXpress_03.vcf',\n",
       "  'TFS.HZ.1.0.perc_10ng_TSVC_IonCodeTag_0111.vcf',\n",
       "  'TFS.HZ.1.0.perc_10ng_TSVC_IonXpress_04.vcf',\n",
       "  'TFS.HZ.1.0.perc_5ng_TSVC_IonXpress_01.vcf',\n",
       "  'TFS.HZ.1.0.perc_5ng_TSVC_IonCodeTag_0109.vcf',\n",
       "  'TFS.HZ.1.0.perc_5ng_TSVC_IonCodeTag_0110.vcf',\n",
       "  'TFS.HZ.1.0.perc_5ng_TSVC_IonXpress_02.vcf',\n",
       "  'TFS.HZ.1.0.perc_20ng_TSVC_IonXpress_013.vcf',\n",
       "  'TFS.HZ.1.0.perc_20ng_TSVC_IonCodeTag_0106.vcf',\n",
       "  'TFS.HZ.1.0.perc_20ng_TSVC_IonCodeTag_0105.vcf',\n",
       "  'TFS.HZ.1.0.perc_20ng_TSVC_IonXpress_014.vcf']}"
      ]
     },
     "execution_count": 16,
     "metadata": {},
     "output_type": "execute_result"
    }
   ],
   "source": [
    "vcf_files = bp.list_files_by_type(project,'VCF', samples[1])\n",
    "vcf_files"
   ]
  },
  {
   "cell_type": "code",
   "execution_count": 17,
   "metadata": {
    "collapsed": false
   },
   "outputs": [
    {
     "data": {
      "text/plain": [
       "{'vcf': 12}"
      ]
     },
     "execution_count": 17,
     "metadata": {},
     "output_type": "execute_result"
    }
   ],
   "source": [
    "counts = bp.count_file_types(project, samples[1])\n",
    "counts"
   ]
  },
  {
   "cell_type": "markdown",
   "metadata": {},
   "source": [
    "Get expected mutations from sample-expectation metadata:"
   ]
  },
  {
   "cell_type": "code",
   "execution_count": 18,
   "metadata": {
    "collapsed": false
   },
   "outputs": [
    {
     "data": {
      "text/plain": [
       "[{'expected_mutation_chromosome': '12',\n",
       "  'expected_mutation_position': '25398284',\n",
       "  'sample_id': 'BPA-THERMOFISHER_P0001-S1'},\n",
       " {'expected_mutation_chromosome': '15',\n",
       "  'expected_mutation_position': '66727451',\n",
       "  'sample_id': 'BPA-THERMOFISHER_P0001-S1'},\n",
       " {'expected_mutation_chromosome': '1',\n",
       "  'expected_mutation_position': '115256530',\n",
       "  'sample_id': 'BPA-THERMOFISHER_P0001-S1'},\n",
       " {'expected_mutation_chromosome': '7',\n",
       "  'expected_mutation_position': '55248998',\n",
       "  'sample_id': 'BPA-THERMOFISHER_P0001-S1'},\n",
       " {'expected_mutation_chromosome': '7',\n",
       "  'expected_mutation_position': '55259515',\n",
       "  'sample_id': 'BPA-THERMOFISHER_P0001-S1'},\n",
       " {'expected_mutation_chromosome': '3',\n",
       "  'expected_mutation_position': '178952085',\n",
       "  'sample_id': 'BPA-THERMOFISHER_P0001-S1'},\n",
       " {'expected_mutation_chromosome': '3',\n",
       "  'expected_mutation_position': '178936091',\n",
       "  'sample_id': 'BPA-THERMOFISHER_P0001-S1'},\n",
       " {'expected_mutation_chromosome': '1',\n",
       "  'expected_mutation_position': '115256536',\n",
       "  'sample_id': 'BPA-THERMOFISHER_P0001-S1'},\n",
       " {'expected_mutation_chromosome': '7',\n",
       "  'expected_mutation_position': '55249071',\n",
       "  'sample_id': 'BPA-THERMOFISHER_P0001-S1'},\n",
       " {'expected_mutation_chromosome': '7',\n",
       "  'expected_mutation_position': '55241707',\n",
       "  'sample_id': 'BPA-THERMOFISHER_P0001-S1'},\n",
       " {'expected_mutation_chromosome': '7',\n",
       "  'expected_mutation_position': '55242464',\n",
       "  'sample_id': 'BPA-THERMOFISHER_P0001-S1'},\n",
       " {'expected_mutation_chromosome': '7',\n",
       "  'expected_mutation_position': '140453136',\n",
       "  'sample_id': 'BPA-THERMOFISHER_P0001-S1'},\n",
       " {'expected_mutation_chromosome': '7',\n",
       "  'expected_mutation_position': '55248998',\n",
       "  'sample_id': 'BPA-THERMOFISHER_P0001-S2'},\n",
       " {'expected_mutation_chromosome': '12',\n",
       "  'expected_mutation_position': '25398284',\n",
       "  'sample_id': 'BPA-THERMOFISHER_P0001-S2'},\n",
       " {'expected_mutation_chromosome': '7',\n",
       "  'expected_mutation_position': '55242464',\n",
       "  'sample_id': 'BPA-THERMOFISHER_P0001-S2'},\n",
       " {'expected_mutation_chromosome': '7',\n",
       "  'expected_mutation_position': '140453136',\n",
       "  'sample_id': 'BPA-THERMOFISHER_P0001-S2'},\n",
       " {'expected_mutation_chromosome': '15',\n",
       "  'expected_mutation_position': '66727451',\n",
       "  'sample_id': 'BPA-THERMOFISHER_P0001-S2'},\n",
       " {'expected_mutation_chromosome': '1',\n",
       "  'expected_mutation_position': '115256530',\n",
       "  'sample_id': 'BPA-THERMOFISHER_P0001-S2'},\n",
       " {'expected_mutation_chromosome': '7',\n",
       "  'expected_mutation_position': '55249071',\n",
       "  'sample_id': 'BPA-THERMOFISHER_P0001-S2'},\n",
       " {'expected_mutation_chromosome': '7',\n",
       "  'expected_mutation_position': '55259515',\n",
       "  'sample_id': 'BPA-THERMOFISHER_P0001-S2'},\n",
       " {'expected_mutation_chromosome': '3',\n",
       "  'expected_mutation_position': '178936091',\n",
       "  'sample_id': 'BPA-THERMOFISHER_P0001-S2'},\n",
       " {'expected_mutation_chromosome': '7',\n",
       "  'expected_mutation_position': '55241707',\n",
       "  'sample_id': 'BPA-THERMOFISHER_P0001-S2'},\n",
       " {'expected_mutation_chromosome': '3',\n",
       "  'expected_mutation_position': '178952085',\n",
       "  'sample_id': 'BPA-THERMOFISHER_P0001-S2'},\n",
       " {'expected_mutation_chromosome': '1',\n",
       "  'expected_mutation_position': '115256536',\n",
       "  'sample_id': 'BPA-THERMOFISHER_P0001-S2'},\n",
       " {'expected_mutation_chromosome': '15',\n",
       "  'expected_mutation_position': '66727451',\n",
       "  'sample_id': 'BPA-THERMOFISHER_P0001-S3'},\n",
       " {'expected_mutation_chromosome': '7',\n",
       "  'expected_mutation_position': '55242464',\n",
       "  'sample_id': 'BPA-THERMOFISHER_P0001-S3'},\n",
       " {'expected_mutation_chromosome': '3',\n",
       "  'expected_mutation_position': '178936091',\n",
       "  'sample_id': 'BPA-THERMOFISHER_P0001-S3'},\n",
       " {'expected_mutation_chromosome': '7',\n",
       "  'expected_mutation_position': '140453136',\n",
       "  'sample_id': 'BPA-THERMOFISHER_P0001-S3'},\n",
       " {'expected_mutation_chromosome': '12',\n",
       "  'expected_mutation_position': '25398284',\n",
       "  'sample_id': 'BPA-THERMOFISHER_P0001-S3'},\n",
       " {'expected_mutation_chromosome': '1',\n",
       "  'expected_mutation_position': '115256530',\n",
       "  'sample_id': 'BPA-THERMOFISHER_P0001-S3'},\n",
       " {'expected_mutation_chromosome': '1',\n",
       "  'expected_mutation_position': '115256536',\n",
       "  'sample_id': 'BPA-THERMOFISHER_P0001-S3'},\n",
       " {'expected_mutation_chromosome': '7',\n",
       "  'expected_mutation_position': '55259515',\n",
       "  'sample_id': 'BPA-THERMOFISHER_P0001-S3'},\n",
       " {'expected_mutation_chromosome': '7',\n",
       "  'expected_mutation_position': '55249071',\n",
       "  'sample_id': 'BPA-THERMOFISHER_P0001-S3'},\n",
       " {'expected_mutation_chromosome': '3',\n",
       "  'expected_mutation_position': '178952085',\n",
       "  'sample_id': 'BPA-THERMOFISHER_P0001-S3'},\n",
       " {'expected_mutation_chromosome': '7',\n",
       "  'expected_mutation_position': '55248998',\n",
       "  'sample_id': 'BPA-THERMOFISHER_P0001-S3'},\n",
       " {'expected_mutation_chromosome': '7',\n",
       "  'expected_mutation_position': '55241707',\n",
       "  'sample_id': 'BPA-THERMOFISHER_P0001-S3'},\n",
       " {'expected_mutation_chromosome': '7',\n",
       "  'expected_mutation_position': '55242464',\n",
       "  'sample_id': 'BPA-THERMOFISHER_P0001-S4'},\n",
       " {'expected_mutation_chromosome': '15',\n",
       "  'expected_mutation_position': '66727451',\n",
       "  'sample_id': 'BPA-THERMOFISHER_P0001-S4'},\n",
       " {'expected_mutation_chromosome': '7',\n",
       "  'expected_mutation_position': '140453136',\n",
       "  'sample_id': 'BPA-THERMOFISHER_P0001-S4'},\n",
       " {'expected_mutation_chromosome': '12',\n",
       "  'expected_mutation_position': '25398284',\n",
       "  'sample_id': 'BPA-THERMOFISHER_P0001-S4'},\n",
       " {'expected_mutation_chromosome': '3',\n",
       "  'expected_mutation_position': '178952085',\n",
       "  'sample_id': 'BPA-THERMOFISHER_P0001-S4'},\n",
       " {'expected_mutation_chromosome': '1',\n",
       "  'expected_mutation_position': '115256536',\n",
       "  'sample_id': 'BPA-THERMOFISHER_P0001-S4'},\n",
       " {'expected_mutation_chromosome': '1',\n",
       "  'expected_mutation_position': '115256530',\n",
       "  'sample_id': 'BPA-THERMOFISHER_P0001-S4'},\n",
       " {'expected_mutation_chromosome': '7',\n",
       "  'expected_mutation_position': '55249071',\n",
       "  'sample_id': 'BPA-THERMOFISHER_P0001-S4'},\n",
       " {'expected_mutation_chromosome': '7',\n",
       "  'expected_mutation_position': '55248998',\n",
       "  'sample_id': 'BPA-THERMOFISHER_P0001-S4'},\n",
       " {'expected_mutation_chromosome': '7',\n",
       "  'expected_mutation_position': '55241707',\n",
       "  'sample_id': 'BPA-THERMOFISHER_P0001-S4'},\n",
       " {'expected_mutation_chromosome': '7',\n",
       "  'expected_mutation_position': '55259515',\n",
       "  'sample_id': 'BPA-THERMOFISHER_P0001-S4'},\n",
       " {'expected_mutation_chromosome': '3',\n",
       "  'expected_mutation_position': '178936091',\n",
       "  'sample_id': 'BPA-THERMOFISHER_P0001-S4'}]"
      ]
     },
     "execution_count": 18,
     "metadata": {},
     "output_type": "execute_result"
    }
   ],
   "source": [
    "expectation = bp.get_expected_mutations(project)\n",
    "expectation"
   ]
  },
  {
   "cell_type": "markdown",
   "metadata": {},
   "source": [
    "Calculate sensitivity and sensitivity values for one example VCF:"
   ]
  },
  {
   "cell_type": "code",
   "execution_count": 19,
   "metadata": {
    "collapsed": false
   },
   "outputs": [
    {
     "data": {
      "text/plain": [
       "{'Expectations': 12,\n",
       " 'False-Positive': 6,\n",
       " 'Sensitivity': 0.667,\n",
       " 'Specificity': 0.963,\n",
       " 'True-Positive': 8,\n",
       " 'VCF File': 'TFS.HZ.1.0.perc_10ng_TSVC_IonCodeTag_0111.vcf'}"
      ]
     },
     "execution_count": 19,
     "metadata": {},
     "output_type": "execute_result"
    }
   ],
   "source": [
    "sample = samples[1]\n",
    "vcf_file = vcf_files[sample][2]\n",
    "metrics = bp.calculate_metrics_vcf(project, path, vcf_file, sample)\n",
    "metrics"
   ]
  },
  {
   "cell_type": "markdown",
   "metadata": {},
   "source": [
    "Calculate sensitivity and sensitivity values for all VCFs in the project:"
   ]
  },
  {
   "cell_type": "code",
   "execution_count": 20,
   "metadata": {
    "collapsed": false
   },
   "outputs": [
    {
     "data": {
      "text/html": [
       "<table style><thead><th>VCF File</th><th>Expectations</th><th>True-Positive</th><th>False-Positive</th><th>Sensitivity</th><th>Specificity</th></thead><tr><td>TFS.HZ.1.0.perc_10ng_TSVC_IonCodeTag_0112.vcf</td><td>12</td><td>8</td><td>5</td><td>0.667</td><td>0.969</td><tr><tr><td>TFS.HZ.1.0.perc_10ng_TSVC_IonXpress_03.vcf</td><td>12</td><td>8</td><td>0</td><td>0.667</td><td>1.0</td><tr><tr><td>TFS.HZ.1.0.perc_10ng_TSVC_IonCodeTag_0111.vcf</td><td>12</td><td>8</td><td>6</td><td>0.667</td><td>0.963</td><tr><tr><td>TFS.HZ.1.0.perc_10ng_TSVC_IonXpress_04.vcf</td><td>12</td><td>8</td><td>0</td><td>0.667</td><td>1.0</td><tr><tr><td>TFS.HZ.1.0.perc_5ng_TSVC_IonXpress_01.vcf</td><td>12</td><td>6</td><td>0</td><td>0.5</td><td>1.0</td><tr><tr><td>TFS.HZ.1.0.perc_5ng_TSVC_IonCodeTag_0109.vcf</td><td>12</td><td>7</td><td>1</td><td>0.583</td><td>0.994</td><tr><tr><td>TFS.HZ.1.0.perc_5ng_TSVC_IonCodeTag_0110.vcf</td><td>12</td><td>8</td><td>6</td><td>0.667</td><td>0.963</td><tr><tr><td>TFS.HZ.1.0.perc_5ng_TSVC_IonXpress_02.vcf</td><td>12</td><td>8</td><td>0</td><td>0.667</td><td>1.0</td><tr><tr><td>TFS.HZ.1.0.perc_20ng_TSVC_IonXpress_013.vcf</td><td>12</td><td>8</td><td>1</td><td>0.667</td><td>0.994</td><tr><tr><td>TFS.HZ.1.0.perc_20ng_TSVC_IonCodeTag_0106.vcf</td><td>12</td><td>8</td><td>0</td><td>0.667</td><td>1.0</td><tr><tr><td>TFS.HZ.1.0.perc_20ng_TSVC_IonCodeTag_0105.vcf</td><td>12</td><td>8</td><td>1</td><td>0.667</td><td>0.994</td><tr><tr><td>TFS.HZ.1.0.perc_20ng_TSVC_IonXpress_014.vcf</td><td>12</td><td>8</td><td>0</td><td>0.667</td><td>1.0</td><tr></table>"
      ],
      "text/plain": [
       "[{'Expectations': 12,\n",
       "  'False-Positive': 5,\n",
       "  'Sensitivity': 0.667,\n",
       "  'Specificity': 0.969,\n",
       "  'True-Positive': 8,\n",
       "  'VCF File': 'TFS.HZ.1.0.perc_10ng_TSVC_IonCodeTag_0112.vcf'},\n",
       " {'Expectations': 12,\n",
       "  'False-Positive': 0,\n",
       "  'Sensitivity': 0.667,\n",
       "  'Specificity': 1.0,\n",
       "  'True-Positive': 8,\n",
       "  'VCF File': 'TFS.HZ.1.0.perc_10ng_TSVC_IonXpress_03.vcf'},\n",
       " {'Expectations': 12,\n",
       "  'False-Positive': 6,\n",
       "  'Sensitivity': 0.667,\n",
       "  'Specificity': 0.963,\n",
       "  'True-Positive': 8,\n",
       "  'VCF File': 'TFS.HZ.1.0.perc_10ng_TSVC_IonCodeTag_0111.vcf'},\n",
       " {'Expectations': 12,\n",
       "  'False-Positive': 0,\n",
       "  'Sensitivity': 0.667,\n",
       "  'Specificity': 1.0,\n",
       "  'True-Positive': 8,\n",
       "  'VCF File': 'TFS.HZ.1.0.perc_10ng_TSVC_IonXpress_04.vcf'},\n",
       " {'Expectations': 12,\n",
       "  'False-Positive': 0,\n",
       "  'Sensitivity': 0.5,\n",
       "  'Specificity': 1.0,\n",
       "  'True-Positive': 6,\n",
       "  'VCF File': 'TFS.HZ.1.0.perc_5ng_TSVC_IonXpress_01.vcf'},\n",
       " {'Expectations': 12,\n",
       "  'False-Positive': 1,\n",
       "  'Sensitivity': 0.583,\n",
       "  'Specificity': 0.994,\n",
       "  'True-Positive': 7,\n",
       "  'VCF File': 'TFS.HZ.1.0.perc_5ng_TSVC_IonCodeTag_0109.vcf'},\n",
       " {'Expectations': 12,\n",
       "  'False-Positive': 6,\n",
       "  'Sensitivity': 0.667,\n",
       "  'Specificity': 0.963,\n",
       "  'True-Positive': 8,\n",
       "  'VCF File': 'TFS.HZ.1.0.perc_5ng_TSVC_IonCodeTag_0110.vcf'},\n",
       " {'Expectations': 12,\n",
       "  'False-Positive': 0,\n",
       "  'Sensitivity': 0.667,\n",
       "  'Specificity': 1.0,\n",
       "  'True-Positive': 8,\n",
       "  'VCF File': 'TFS.HZ.1.0.perc_5ng_TSVC_IonXpress_02.vcf'},\n",
       " {'Expectations': 12,\n",
       "  'False-Positive': 1,\n",
       "  'Sensitivity': 0.667,\n",
       "  'Specificity': 0.994,\n",
       "  'True-Positive': 8,\n",
       "  'VCF File': 'TFS.HZ.1.0.perc_20ng_TSVC_IonXpress_013.vcf'},\n",
       " {'Expectations': 12,\n",
       "  'False-Positive': 0,\n",
       "  'Sensitivity': 0.667,\n",
       "  'Specificity': 1.0,\n",
       "  'True-Positive': 8,\n",
       "  'VCF File': 'TFS.HZ.1.0.perc_20ng_TSVC_IonCodeTag_0106.vcf'},\n",
       " {'Expectations': 12,\n",
       "  'False-Positive': 1,\n",
       "  'Sensitivity': 0.667,\n",
       "  'Specificity': 0.994,\n",
       "  'True-Positive': 8,\n",
       "  'VCF File': 'TFS.HZ.1.0.perc_20ng_TSVC_IonCodeTag_0105.vcf'},\n",
       " {'Expectations': 12,\n",
       "  'False-Positive': 0,\n",
       "  'Sensitivity': 0.667,\n",
       "  'Specificity': 1.0,\n",
       "  'True-Positive': 8,\n",
       "  'VCF File': 'TFS.HZ.1.0.perc_20ng_TSVC_IonXpress_014.vcf'}]"
      ]
     },
     "execution_count": 20,
     "metadata": {},
     "output_type": "execute_result"
    }
   ],
   "source": [
    "table_metrics, data_metrics = bp.calculate_metrics_all_vcf(project, path, vcf_files)\n",
    "table_metrics"
   ]
  },
  {
   "cell_type": "code",
   "execution_count": 21,
   "metadata": {
    "collapsed": false
   },
   "outputs": [
    {
     "data": {
      "text/html": [
       "<table style><thead><th>VCF File</th><th>Expectations</th><th>True-Positive</th><th>False-Positive</th><th>Sensitivity</th><th>Specificity</th></thead><tr><td>TFS.HZ.1.0.perc_10ng_TSVC_IonCodeTag_0112.vcf</td><td>8</td><td>8</td><td>5</td><td>1.0</td><td>0.969</td><tr><tr><td>TFS.HZ.1.0.perc_10ng_TSVC_IonXpress_03.vcf</td><td>8</td><td>8</td><td>0</td><td>1.0</td><td>1.0</td><tr><tr><td>TFS.HZ.1.0.perc_10ng_TSVC_IonCodeTag_0111.vcf</td><td>8</td><td>8</td><td>6</td><td>1.0</td><td>0.963</td><tr><tr><td>TFS.HZ.1.0.perc_10ng_TSVC_IonXpress_04.vcf</td><td>8</td><td>8</td><td>0</td><td>1.0</td><td>1.0</td><tr><tr><td>TFS.HZ.1.0.perc_5ng_TSVC_IonXpress_01.vcf</td><td>8</td><td>6</td><td>0</td><td>0.75</td><td>1.0</td><tr><tr><td>TFS.HZ.1.0.perc_5ng_TSVC_IonCodeTag_0109.vcf</td><td>8</td><td>7</td><td>1</td><td>0.875</td><td>0.994</td><tr><tr><td>TFS.HZ.1.0.perc_5ng_TSVC_IonCodeTag_0110.vcf</td><td>8</td><td>8</td><td>6</td><td>1.0</td><td>0.963</td><tr><tr><td>TFS.HZ.1.0.perc_5ng_TSVC_IonXpress_02.vcf</td><td>8</td><td>8</td><td>0</td><td>1.0</td><td>1.0</td><tr><tr><td>TFS.HZ.1.0.perc_20ng_TSVC_IonXpress_013.vcf</td><td>8</td><td>8</td><td>1</td><td>1.0</td><td>0.994</td><tr><tr><td>TFS.HZ.1.0.perc_20ng_TSVC_IonCodeTag_0106.vcf</td><td>8</td><td>8</td><td>0</td><td>1.0</td><td>1.0</td><tr><tr><td>TFS.HZ.1.0.perc_20ng_TSVC_IonCodeTag_0105.vcf</td><td>8</td><td>8</td><td>1</td><td>1.0</td><td>0.994</td><tr><tr><td>TFS.HZ.1.0.perc_20ng_TSVC_IonXpress_014.vcf</td><td>8</td><td>8</td><td>0</td><td>1.0</td><td>1.0</td><tr></table>"
      ],
      "text/plain": [
       "[{'Expectations': 8,\n",
       "  'False-Positive': 5,\n",
       "  'Sensitivity': 1.0,\n",
       "  'Specificity': 0.969,\n",
       "  'True-Positive': 8,\n",
       "  'VCF File': 'TFS.HZ.1.0.perc_10ng_TSVC_IonCodeTag_0112.vcf'},\n",
       " {'Expectations': 8,\n",
       "  'False-Positive': 0,\n",
       "  'Sensitivity': 1.0,\n",
       "  'Specificity': 1.0,\n",
       "  'True-Positive': 8,\n",
       "  'VCF File': 'TFS.HZ.1.0.perc_10ng_TSVC_IonXpress_03.vcf'},\n",
       " {'Expectations': 8,\n",
       "  'False-Positive': 6,\n",
       "  'Sensitivity': 1.0,\n",
       "  'Specificity': 0.963,\n",
       "  'True-Positive': 8,\n",
       "  'VCF File': 'TFS.HZ.1.0.perc_10ng_TSVC_IonCodeTag_0111.vcf'},\n",
       " {'Expectations': 8,\n",
       "  'False-Positive': 0,\n",
       "  'Sensitivity': 1.0,\n",
       "  'Specificity': 1.0,\n",
       "  'True-Positive': 8,\n",
       "  'VCF File': 'TFS.HZ.1.0.perc_10ng_TSVC_IonXpress_04.vcf'},\n",
       " {'Expectations': 8,\n",
       "  'False-Positive': 0,\n",
       "  'Sensitivity': 0.75,\n",
       "  'Specificity': 1.0,\n",
       "  'True-Positive': 6,\n",
       "  'VCF File': 'TFS.HZ.1.0.perc_5ng_TSVC_IonXpress_01.vcf'},\n",
       " {'Expectations': 8,\n",
       "  'False-Positive': 1,\n",
       "  'Sensitivity': 0.875,\n",
       "  'Specificity': 0.994,\n",
       "  'True-Positive': 7,\n",
       "  'VCF File': 'TFS.HZ.1.0.perc_5ng_TSVC_IonCodeTag_0109.vcf'},\n",
       " {'Expectations': 8,\n",
       "  'False-Positive': 6,\n",
       "  'Sensitivity': 1.0,\n",
       "  'Specificity': 0.963,\n",
       "  'True-Positive': 8,\n",
       "  'VCF File': 'TFS.HZ.1.0.perc_5ng_TSVC_IonCodeTag_0110.vcf'},\n",
       " {'Expectations': 8,\n",
       "  'False-Positive': 0,\n",
       "  'Sensitivity': 1.0,\n",
       "  'Specificity': 1.0,\n",
       "  'True-Positive': 8,\n",
       "  'VCF File': 'TFS.HZ.1.0.perc_5ng_TSVC_IonXpress_02.vcf'},\n",
       " {'Expectations': 8,\n",
       "  'False-Positive': 1,\n",
       "  'Sensitivity': 1.0,\n",
       "  'Specificity': 0.994,\n",
       "  'True-Positive': 8,\n",
       "  'VCF File': 'TFS.HZ.1.0.perc_20ng_TSVC_IonXpress_013.vcf'},\n",
       " {'Expectations': 8,\n",
       "  'False-Positive': 0,\n",
       "  'Sensitivity': 1.0,\n",
       "  'Specificity': 1.0,\n",
       "  'True-Positive': 8,\n",
       "  'VCF File': 'TFS.HZ.1.0.perc_20ng_TSVC_IonCodeTag_0106.vcf'},\n",
       " {'Expectations': 8,\n",
       "  'False-Positive': 1,\n",
       "  'Sensitivity': 1.0,\n",
       "  'Specificity': 0.994,\n",
       "  'True-Positive': 8,\n",
       "  'VCF File': 'TFS.HZ.1.0.perc_20ng_TSVC_IonCodeTag_0105.vcf'},\n",
       " {'Expectations': 8,\n",
       "  'False-Positive': 0,\n",
       "  'Sensitivity': 1.0,\n",
       "  'Specificity': 1.0,\n",
       "  'True-Positive': 8,\n",
       "  'VCF File': 'TFS.HZ.1.0.perc_20ng_TSVC_IonXpress_014.vcf'}]"
      ]
     },
     "execution_count": 21,
     "metadata": {},
     "output_type": "execute_result"
    }
   ],
   "source": [
    "baseline_vcf = 'TFS.HZ.0.0.perc_20ng_TSVC_IonCodeTag_0101.vcf'\n",
    "table_filter_metrics, data_filter_metrics = bp.calculate_metrics_all_vcf(project, path, vcf_files, baseline_vcf)\n",
    "table_filter_metrics"
   ]
  },
  {
   "cell_type": "code",
   "execution_count": 22,
   "metadata": {
    "collapsed": false,
    "scrolled": true
   },
   "outputs": [
    {
     "data": {
      "image/png": "[encoded data removed]",
      "text/plain": [
       "<matplotlib.figure.Figure at 0x7fa1557050d0>"
      ]
     },
     "metadata": {},
     "output_type": "display_data"
    }
   ],
   "source": [
    "bp.plot_metrics(data_metrics, data_filter_metrics)"
   ]
  },
  {
   "cell_type": "code",
   "execution_count": null,
   "metadata": {
    "collapsed": false
   },
   "outputs": [],
   "source": []
  },
  {
   "cell_type": "code",
   "execution_count": null,
   "metadata": {
    "collapsed": true
   },
   "outputs": [],
   "source": []
  }
 ],
 "metadata": {
  "anaconda-cloud": {},
  "kernelspec": {
   "display_name": "Python 2",
   "language": "python",
   "name": "python2"
  },
  "language_info": {
   "codemirror_mode": {
    "name": "ipython",
    "version": 2
   },
   "file_extension": ".py",
   "mimetype": "text/x-python",
   "name": "python",
   "nbconvert_exporter": "python",
   "pygments_lexer": "ipython2",
   "version": "2.7.6"
  }
 },
 "nbformat": 4,
 "nbformat_minor": 0
}
