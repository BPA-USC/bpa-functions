{
 "cells": [
  {
   "cell_type": "markdown",
   "metadata": {},
   "source": [
    "# Sensitivity/Specificity analysis demo"
   ]
  },
  {
   "cell_type": "markdown",
   "metadata": {},
   "source": [
    "These are some examples of queries to directly interact with the API to get some metadata:"
   ]
  },
  {
   "cell_type": "code",
   "execution_count": 1,
   "metadata": {
    "collapsed": false
   },
   "outputs": [],
   "source": [
    "from cdispyutils.hmac4 import get_auth\n",
    "import json\n",
    "import requests\n",
    "with open('.secrets','r') as f:\n",
    "    secrets = json.load(f)\n",
    "auth = get_auth(secrets['access_key'], secrets['secret_key'], 'submission')"
   ]
  },
  {
   "cell_type": "code",
   "execution_count": 2,
   "metadata": {
    "collapsed": false
   },
   "outputs": [
    {
     "name": "stdout",
     "output_type": "stream",
     "text": [
      "{\n",
      "  \"links\": [\n",
      "    \"/v0/submission/bpa\"\n",
      "  ]\n",
      "}\n",
      "{\n",
      "  \"links\": [\n",
      "    \"/v0/submission/bpa/EpicSciences_P001_T1\",\n",
      "    \"/v0/submission/bpa/GenomicHealth_P0001_T1\",\n",
      "    \"/v0/submission/bpa/Guardant_P0001_T1\",\n",
      "    \"/v0/submission/bpa/Novartis_Contrived1_T1\",\n",
      "    \"/v0/submission/bpa/PersonalGenome_Beta1\",\n",
      "    \"/v0/submission/bpa/ThermoFisher_P0001_T1\",\n",
      "    \"/v0/submission/bpa/UMich_P0001_T1\",\n",
      "    \"/v0/submission/bpa/UMich_P0002_T1\",\n",
      "    \"/v0/submission/bpa/USC_OPT1_T1\",\n",
      "    \"/v0/submission/bpa/ThermoFisher_P0002_T1\",\n",
      "    \"/v0/submission/bpa/test\",\n",
      "    \"/v0/submission/bpa/FoundationMedicine_ClinAV_T1\",\n",
      "    \"/v0/submission/bpa/CytoLumina_P0001_T1\"\n",
      "  ]\n",
      "}\n"
     ]
    }
   ],
   "source": [
    "print requests.get('http://api.internal.io/v0/submission', auth=auth).text\n",
    "print requests.get('http://api.internal.io/v0/submission/bpa/', auth=auth).text"
   ]
  },
  {
   "cell_type": "code",
   "execution_count": 3,
   "metadata": {
    "collapsed": false
   },
   "outputs": [
    {
     "name": "stdout",
     "output_type": "stream",
     "text": [
      "{\n",
      "  \"data\": {\n",
      "    \"sample\": [\n",
      "      {\n",
      "        \"_aliquots_count\": 2,\n",
      "        \"aliquots\": [\n",
      "          {\n",
      "            \"_read_groups_count\": 2,\n",
      "            \"aliquot_concentration\": 40.0,\n",
      "            \"read_groups\": [\n",
      "              {\n",
      "                \"_submitted_somatic_mutations_count\": 1,\n",
      "                \"submitted_somatic_mutations\": [\n",
      "                  {\n",
      "                    \"file_name\": \"TFS.HZ.0.1.perc_50ng_TSVC_IonCodeTag_0104.vcf\"\n",
      "                  }\n",
      "                ]\n",
      "              },\n",
      "              {\n",
      "                \"_submitted_somatic_mutations_count\": 1,\n",
      "                \"submitted_somatic_mutations\": [\n",
      "                  {\n",
      "                    \"file_name\": \"TFS.HZ.0.1.perc_50ng_TSVC_IonCodeTag_0103.vcf\"\n",
      "                  }\n",
      "                ]\n",
      "              }\n",
      "            ]\n",
      "          },\n",
      "          {\n",
      "            \"_read_groups_count\": 2,\n",
      "            \"aliquot_concentration\": 40.0,\n",
      "            \"read_groups\": [\n",
      "              {\n",
      "                \"_submitted_somatic_mutations_count\": 1,\n",
      "                \"submitted_somatic_mutations\": [\n",
      "                  {\n",
      "                    \"file_name\": \"TFS.HZ.0.1.perc_60ng_TSVC_IonXpress_012.vcf\"\n",
      "                  }\n",
      "                ]\n",
      "              },\n",
      "              {\n",
      "                \"_submitted_somatic_mutations_count\": 1,\n",
      "                \"submitted_somatic_mutations\": [\n",
      "                  {\n",
      "                    \"file_name\": \"TFS.HZ.0.1.perc_60ng_TSVC_IonXpress_011.vcf\"\n",
      "                  }\n",
      "                ]\n",
      "              }\n",
      "            ]\n",
      "          }\n",
      "        ]\n",
      "      }\n",
      "    ]\n",
      "  }\n",
      "}\n"
     ]
    }
   ],
   "source": [
    "data = {'query': \"\"\"query Test { sample (project_id: \"bpa-ThermoFisher_P0001_T1\", submitter_id: \"BPA-THERMOFISHER_P0001-S1\") {   \n",
    "                                 _aliquots_count aliquots { aliquot_concentration  _read_groups_count read_groups {\n",
    "                                _submitted_somatic_mutations_count submitted_somatic_mutations {\n",
    "                                file_name}} } }} \"\"\"};\n",
    "print requests.post('http://api.internal.io/v0/submission/graphql/', auth=auth, json=data).text"
   ]
  },
  {
   "cell_type": "markdown",
   "metadata": {},
   "source": [
    "This example shows how to analyze data from one specific project in BloodPAC containing expected mutations from contrived samples and resulting VCF files"
   ]
  },
  {
   "cell_type": "code",
   "execution_count": 4,
   "metadata": {
    "collapsed": false
   },
   "outputs": [],
   "source": [
    "import bpa_analysis_functions_v2 as bp"
   ]
  },
  {
   "cell_type": "markdown",
   "metadata": {},
   "source": [
    "Get the project name we are going to analyze, local path to save project files and user profile to access their bucket:"
   ]
  },
  {
   "cell_type": "code",
   "execution_count": 5,
   "metadata": {
    "collapsed": false
   },
   "outputs": [],
   "source": [
    "project = 'bpa-ThermoFisher_P0001_T1'\n",
    "profile = 'bloodpac'\n",
    "path    = 'files/'\n",
    "bp.add_keys('.secrets')"
   ]
  },
  {
   "cell_type": "markdown",
   "metadata": {},
   "source": [
    "Get project files from bucket to a local directory:"
   ]
  },
  {
   "cell_type": "code",
   "execution_count": 6,
   "metadata": {
    "collapsed": false
   },
   "outputs": [
    {
     "name": "stdout",
     "output_type": "stream",
     "text": [
      "Getting files...\n",
      "Finished\n"
     ]
    }
   ],
   "source": [
    "bp.get_files_from_bucket(project, profile, path)"
   ]
  },
  {
   "cell_type": "markdown",
   "metadata": {},
   "source": [
    "List samples for this project:"
   ]
  },
  {
   "cell_type": "code",
   "execution_count": 7,
   "metadata": {
    "collapsed": false
   },
   "outputs": [
    {
     "data": {
      "text/plain": [
       "['BPA-THERMOFISHER_P0001-S4',\n",
       " 'BPA-THERMOFISHER_P0001-S3',\n",
       " 'BPA-THERMOFISHER_P0001-S2',\n",
       " 'BPA-THERMOFISHER_P0001-S1']"
      ]
     },
     "execution_count": 7,
     "metadata": {},
     "output_type": "execute_result"
    }
   ],
   "source": [
    "samples = bp.list_samples(project)\n",
    "samples"
   ]
  },
  {
   "cell_type": "markdown",
   "metadata": {},
   "source": [
    "List and count file types contained in this project"
   ]
  },
  {
   "cell_type": "code",
   "execution_count": 8,
   "metadata": {
    "collapsed": false
   },
   "outputs": [
    {
     "data": {
      "text/plain": [
       "{'BPA-THERMOFISHER_P0001-S3': ['TFS.HZ.5.0.perc_5ng_TSVC_IonXpress_05.vcf',\n",
       "  'TFS.HZ.5.0.perc_5ng_TSVC_IonXpress_06.vcf',\n",
       "  'TFS.HZ.5.0.perc_5ng_TSVC_IonCodeTag_0113.vcf',\n",
       "  'TFS.HZ.5.0.perc_5ng_TSVC_IonCodeTag_0114.vcf',\n",
       "  'TFS.HZ.5.0.perc_10ng_TSVC_IonCodeTag_0115.vcf',\n",
       "  'TFS.HZ.5.0.perc_10ng_TSVC_IonCodeTag_0116.vcf',\n",
       "  'TFS.HZ.5.0.perc_10ng_TSVC_IonXpress_07.vcf',\n",
       "  'TFS.HZ.5.0.perc_10ng_TSVC_IonXpress_08.vcf',\n",
       "  'TFS.HZ.5.0.perc_20ng_TSVC_IonXpress_015.vcf',\n",
       "  'TFS.HZ.5.0.perc_20ng_TSVC_IonCodeTag_0107.vcf',\n",
       "  'TFS.HZ.5.0.perc_20ng_TSVC_IonCodeTag_0108.vcf',\n",
       "  'TFS.HZ.5.0.perc_20ng_TSVC_IonXpress_016.vcf']}"
      ]
     },
     "execution_count": 8,
     "metadata": {},
     "output_type": "execute_result"
    }
   ],
   "source": [
    "vcf_files = bp.list_files_by_type(project,'VCF', samples[1])\n",
    "vcf_files"
   ]
  },
  {
   "cell_type": "code",
   "execution_count": 9,
   "metadata": {
    "collapsed": false
   },
   "outputs": [
    {
     "data": {
      "text/plain": [
       "{'vcf': 12}"
      ]
     },
     "execution_count": 9,
     "metadata": {},
     "output_type": "execute_result"
    }
   ],
   "source": [
    "counts = bp.count_file_types(project, samples[1])\n",
    "counts"
   ]
  },
  {
   "cell_type": "markdown",
   "metadata": {},
   "source": [
    "Get expected mutations from sample-expectation metadata:"
   ]
  },
  {
   "cell_type": "code",
   "execution_count": 10,
   "metadata": {
    "collapsed": false
   },
   "outputs": [
    {
     "data": {
      "text/plain": [
       "[{'expected_mutation_chromosome': '7',\n",
       "  'expected_mutation_position': '55242464',\n",
       "  'sample_id': 'BPA-THERMOFISHER_P0001-S4'},\n",
       " {'expected_mutation_chromosome': '15',\n",
       "  'expected_mutation_position': '66727451',\n",
       "  'sample_id': 'BPA-THERMOFISHER_P0001-S4'},\n",
       " {'expected_mutation_chromosome': '7',\n",
       "  'expected_mutation_position': '140453136',\n",
       "  'sample_id': 'BPA-THERMOFISHER_P0001-S4'},\n",
       " {'expected_mutation_chromosome': '12',\n",
       "  'expected_mutation_position': '25398284',\n",
       "  'sample_id': 'BPA-THERMOFISHER_P0001-S4'},\n",
       " {'expected_mutation_chromosome': '3',\n",
       "  'expected_mutation_position': '178952085',\n",
       "  'sample_id': 'BPA-THERMOFISHER_P0001-S4'},\n",
       " {'expected_mutation_chromosome': '1',\n",
       "  'expected_mutation_position': '115256536',\n",
       "  'sample_id': 'BPA-THERMOFISHER_P0001-S4'},\n",
       " {'expected_mutation_chromosome': '1',\n",
       "  'expected_mutation_position': '115256530',\n",
       "  'sample_id': 'BPA-THERMOFISHER_P0001-S4'},\n",
       " {'expected_mutation_chromosome': '7',\n",
       "  'expected_mutation_position': '55249071',\n",
       "  'sample_id': 'BPA-THERMOFISHER_P0001-S4'},\n",
       " {'expected_mutation_chromosome': '7',\n",
       "  'expected_mutation_position': '55248998',\n",
       "  'sample_id': 'BPA-THERMOFISHER_P0001-S4'},\n",
       " {'expected_mutation_chromosome': '7',\n",
       "  'expected_mutation_position': '55241707',\n",
       "  'sample_id': 'BPA-THERMOFISHER_P0001-S4'},\n",
       " {'expected_mutation_chromosome': '7',\n",
       "  'expected_mutation_position': '55259515',\n",
       "  'sample_id': 'BPA-THERMOFISHER_P0001-S4'},\n",
       " {'expected_mutation_chromosome': '3',\n",
       "  'expected_mutation_position': '178936091',\n",
       "  'sample_id': 'BPA-THERMOFISHER_P0001-S4'},\n",
       " {'expected_mutation_chromosome': '15',\n",
       "  'expected_mutation_position': '66727451',\n",
       "  'sample_id': 'BPA-THERMOFISHER_P0001-S3'},\n",
       " {'expected_mutation_chromosome': '7',\n",
       "  'expected_mutation_position': '55242464',\n",
       "  'sample_id': 'BPA-THERMOFISHER_P0001-S3'},\n",
       " {'expected_mutation_chromosome': '3',\n",
       "  'expected_mutation_position': '178936091',\n",
       "  'sample_id': 'BPA-THERMOFISHER_P0001-S3'},\n",
       " {'expected_mutation_chromosome': '7',\n",
       "  'expected_mutation_position': '140453136',\n",
       "  'sample_id': 'BPA-THERMOFISHER_P0001-S3'},\n",
       " {'expected_mutation_chromosome': '12',\n",
       "  'expected_mutation_position': '25398284',\n",
       "  'sample_id': 'BPA-THERMOFISHER_P0001-S3'},\n",
       " {'expected_mutation_chromosome': '1',\n",
       "  'expected_mutation_position': '115256530',\n",
       "  'sample_id': 'BPA-THERMOFISHER_P0001-S3'},\n",
       " {'expected_mutation_chromosome': '1',\n",
       "  'expected_mutation_position': '115256536',\n",
       "  'sample_id': 'BPA-THERMOFISHER_P0001-S3'},\n",
       " {'expected_mutation_chromosome': '7',\n",
       "  'expected_mutation_position': '55259515',\n",
       "  'sample_id': 'BPA-THERMOFISHER_P0001-S3'},\n",
       " {'expected_mutation_chromosome': '7',\n",
       "  'expected_mutation_position': '55249071',\n",
       "  'sample_id': 'BPA-THERMOFISHER_P0001-S3'},\n",
       " {'expected_mutation_chromosome': '3',\n",
       "  'expected_mutation_position': '178952085',\n",
       "  'sample_id': 'BPA-THERMOFISHER_P0001-S3'},\n",
       " {'expected_mutation_chromosome': '7',\n",
       "  'expected_mutation_position': '55248998',\n",
       "  'sample_id': 'BPA-THERMOFISHER_P0001-S3'},\n",
       " {'expected_mutation_chromosome': '7',\n",
       "  'expected_mutation_position': '55241707',\n",
       "  'sample_id': 'BPA-THERMOFISHER_P0001-S3'},\n",
       " {'expected_mutation_chromosome': '7',\n",
       "  'expected_mutation_position': '55248998',\n",
       "  'sample_id': 'BPA-THERMOFISHER_P0001-S2'},\n",
       " {'expected_mutation_chromosome': '12',\n",
       "  'expected_mutation_position': '25398284',\n",
       "  'sample_id': 'BPA-THERMOFISHER_P0001-S2'},\n",
       " {'expected_mutation_chromosome': '7',\n",
       "  'expected_mutation_position': '55242464',\n",
       "  'sample_id': 'BPA-THERMOFISHER_P0001-S2'},\n",
       " {'expected_mutation_chromosome': '7',\n",
       "  'expected_mutation_position': '140453136',\n",
       "  'sample_id': 'BPA-THERMOFISHER_P0001-S2'},\n",
       " {'expected_mutation_chromosome': '15',\n",
       "  'expected_mutation_position': '66727451',\n",
       "  'sample_id': 'BPA-THERMOFISHER_P0001-S2'},\n",
       " {'expected_mutation_chromosome': '1',\n",
       "  'expected_mutation_position': '115256530',\n",
       "  'sample_id': 'BPA-THERMOFISHER_P0001-S2'},\n",
       " {'expected_mutation_chromosome': '7',\n",
       "  'expected_mutation_position': '55249071',\n",
       "  'sample_id': 'BPA-THERMOFISHER_P0001-S2'},\n",
       " {'expected_mutation_chromosome': '7',\n",
       "  'expected_mutation_position': '55259515',\n",
       "  'sample_id': 'BPA-THERMOFISHER_P0001-S2'},\n",
       " {'expected_mutation_chromosome': '3',\n",
       "  'expected_mutation_position': '178936091',\n",
       "  'sample_id': 'BPA-THERMOFISHER_P0001-S2'},\n",
       " {'expected_mutation_chromosome': '7',\n",
       "  'expected_mutation_position': '55241707',\n",
       "  'sample_id': 'BPA-THERMOFISHER_P0001-S2'},\n",
       " {'expected_mutation_chromosome': '3',\n",
       "  'expected_mutation_position': '178952085',\n",
       "  'sample_id': 'BPA-THERMOFISHER_P0001-S2'},\n",
       " {'expected_mutation_chromosome': '1',\n",
       "  'expected_mutation_position': '115256536',\n",
       "  'sample_id': 'BPA-THERMOFISHER_P0001-S2'},\n",
       " {'expected_mutation_chromosome': '12',\n",
       "  'expected_mutation_position': '25398284',\n",
       "  'sample_id': 'BPA-THERMOFISHER_P0001-S1'},\n",
       " {'expected_mutation_chromosome': '15',\n",
       "  'expected_mutation_position': '66727451',\n",
       "  'sample_id': 'BPA-THERMOFISHER_P0001-S1'},\n",
       " {'expected_mutation_chromosome': '1',\n",
       "  'expected_mutation_position': '115256530',\n",
       "  'sample_id': 'BPA-THERMOFISHER_P0001-S1'},\n",
       " {'expected_mutation_chromosome': '7',\n",
       "  'expected_mutation_position': '55248998',\n",
       "  'sample_id': 'BPA-THERMOFISHER_P0001-S1'},\n",
       " {'expected_mutation_chromosome': '7',\n",
       "  'expected_mutation_position': '55259515',\n",
       "  'sample_id': 'BPA-THERMOFISHER_P0001-S1'},\n",
       " {'expected_mutation_chromosome': '3',\n",
       "  'expected_mutation_position': '178952085',\n",
       "  'sample_id': 'BPA-THERMOFISHER_P0001-S1'},\n",
       " {'expected_mutation_chromosome': '3',\n",
       "  'expected_mutation_position': '178936091',\n",
       "  'sample_id': 'BPA-THERMOFISHER_P0001-S1'},\n",
       " {'expected_mutation_chromosome': '1',\n",
       "  'expected_mutation_position': '115256536',\n",
       "  'sample_id': 'BPA-THERMOFISHER_P0001-S1'},\n",
       " {'expected_mutation_chromosome': '7',\n",
       "  'expected_mutation_position': '55249071',\n",
       "  'sample_id': 'BPA-THERMOFISHER_P0001-S1'},\n",
       " {'expected_mutation_chromosome': '7',\n",
       "  'expected_mutation_position': '55241707',\n",
       "  'sample_id': 'BPA-THERMOFISHER_P0001-S1'},\n",
       " {'expected_mutation_chromosome': '7',\n",
       "  'expected_mutation_position': '55242464',\n",
       "  'sample_id': 'BPA-THERMOFISHER_P0001-S1'},\n",
       " {'expected_mutation_chromosome': '7',\n",
       "  'expected_mutation_position': '140453136',\n",
       "  'sample_id': 'BPA-THERMOFISHER_P0001-S1'}]"
      ]
     },
     "execution_count": 10,
     "metadata": {},
     "output_type": "execute_result"
    }
   ],
   "source": [
    "expectation = bp.get_expected_mutations(project)\n",
    "expectation"
   ]
  },
  {
   "cell_type": "markdown",
   "metadata": {},
   "source": [
    "Calculate sensitivity and sensitivity values for one example VCF:"
   ]
  },
  {
   "cell_type": "code",
   "execution_count": 11,
   "metadata": {
    "collapsed": false
   },
   "outputs": [
    {
     "data": {
      "text/plain": [
       "{'Expectations': 12,\n",
       " 'False-Positive': 3,\n",
       " 'Sensitivity': 0.667,\n",
       " 'Specificity': 0.981,\n",
       " 'True-Positive': 8,\n",
       " 'VCF File': 'TFS.HZ.5.0.perc_5ng_TSVC_IonCodeTag_0113.vcf'}"
      ]
     },
     "execution_count": 11,
     "metadata": {},
     "output_type": "execute_result"
    }
   ],
   "source": [
    "sample = samples[1]\n",
    "vcf_file = vcf_files[sample][2]\n",
    "metrics = bp.calculate_metrics_vcf(project, path, vcf_file, sample)\n",
    "metrics"
   ]
  },
  {
   "cell_type": "markdown",
   "metadata": {},
   "source": [
    "Calculate sensitivity and sensitivity values for all VCFs in the project:"
   ]
  },
  {
   "cell_type": "code",
   "execution_count": 12,
   "metadata": {
    "collapsed": false
   },
   "outputs": [
    {
     "data": {
      "text/html": [
       "<table style><thead><th>VCF File</th><th>Expectations</th><th>True-Positive</th><th>False-Positive</th><th>Sensitivity</th><th>Specificity</th></thead><tr><td>TFS.HZ.5.0.perc_5ng_TSVC_IonXpress_05.vcf</td><td>12</td><td>8</td><td>0</td><td>0.667</td><td>1.0</td><tr><tr><td>TFS.HZ.5.0.perc_5ng_TSVC_IonXpress_06.vcf</td><td>12</td><td>8</td><td>0</td><td>0.667</td><td>1.0</td><tr><tr><td>TFS.HZ.5.0.perc_5ng_TSVC_IonCodeTag_0113.vcf</td><td>12</td><td>8</td><td>3</td><td>0.667</td><td>0.981</td><tr><tr><td>TFS.HZ.5.0.perc_5ng_TSVC_IonCodeTag_0114.vcf</td><td>12</td><td>8</td><td>3</td><td>0.667</td><td>0.981</td><tr><tr><td>TFS.HZ.5.0.perc_10ng_TSVC_IonCodeTag_0115.vcf</td><td>12</td><td>8</td><td>3</td><td>0.667</td><td>0.981</td><tr><tr><td>TFS.HZ.5.0.perc_10ng_TSVC_IonCodeTag_0116.vcf</td><td>12</td><td>8</td><td>5</td><td>0.667</td><td>0.969</td><tr><tr><td>TFS.HZ.5.0.perc_10ng_TSVC_IonXpress_07.vcf</td><td>12</td><td>8</td><td>0</td><td>0.667</td><td>1.0</td><tr><tr><td>TFS.HZ.5.0.perc_10ng_TSVC_IonXpress_08.vcf</td><td>12</td><td>8</td><td>0</td><td>0.667</td><td>1.0</td><tr><tr><td>TFS.HZ.5.0.perc_20ng_TSVC_IonXpress_015.vcf</td><td>12</td><td>8</td><td>0</td><td>0.667</td><td>1.0</td><tr><tr><td>TFS.HZ.5.0.perc_20ng_TSVC_IonCodeTag_0107.vcf</td><td>12</td><td>8</td><td>0</td><td>0.667</td><td>1.0</td><tr><tr><td>TFS.HZ.5.0.perc_20ng_TSVC_IonCodeTag_0108.vcf</td><td>12</td><td>8</td><td>0</td><td>0.667</td><td>1.0</td><tr><tr><td>TFS.HZ.5.0.perc_20ng_TSVC_IonXpress_016.vcf</td><td>12</td><td>8</td><td>0</td><td>0.667</td><td>1.0</td><tr></table>"
      ],
      "text/plain": [
       "[{'Expectations': 12,\n",
       "  'False-Positive': 0,\n",
       "  'Sensitivity': 0.667,\n",
       "  'Specificity': 1.0,\n",
       "  'True-Positive': 8,\n",
       "  'VCF File': 'TFS.HZ.5.0.perc_5ng_TSVC_IonXpress_05.vcf'},\n",
       " {'Expectations': 12,\n",
       "  'False-Positive': 0,\n",
       "  'Sensitivity': 0.667,\n",
       "  'Specificity': 1.0,\n",
       "  'True-Positive': 8,\n",
       "  'VCF File': 'TFS.HZ.5.0.perc_5ng_TSVC_IonXpress_06.vcf'},\n",
       " {'Expectations': 12,\n",
       "  'False-Positive': 3,\n",
       "  'Sensitivity': 0.667,\n",
       "  'Specificity': 0.981,\n",
       "  'True-Positive': 8,\n",
       "  'VCF File': 'TFS.HZ.5.0.perc_5ng_TSVC_IonCodeTag_0113.vcf'},\n",
       " {'Expectations': 12,\n",
       "  'False-Positive': 3,\n",
       "  'Sensitivity': 0.667,\n",
       "  'Specificity': 0.981,\n",
       "  'True-Positive': 8,\n",
       "  'VCF File': 'TFS.HZ.5.0.perc_5ng_TSVC_IonCodeTag_0114.vcf'},\n",
       " {'Expectations': 12,\n",
       "  'False-Positive': 3,\n",
       "  'Sensitivity': 0.667,\n",
       "  'Specificity': 0.981,\n",
       "  'True-Positive': 8,\n",
       "  'VCF File': 'TFS.HZ.5.0.perc_10ng_TSVC_IonCodeTag_0115.vcf'},\n",
       " {'Expectations': 12,\n",
       "  'False-Positive': 5,\n",
       "  'Sensitivity': 0.667,\n",
       "  'Specificity': 0.969,\n",
       "  'True-Positive': 8,\n",
       "  'VCF File': 'TFS.HZ.5.0.perc_10ng_TSVC_IonCodeTag_0116.vcf'},\n",
       " {'Expectations': 12,\n",
       "  'False-Positive': 0,\n",
       "  'Sensitivity': 0.667,\n",
       "  'Specificity': 1.0,\n",
       "  'True-Positive': 8,\n",
       "  'VCF File': 'TFS.HZ.5.0.perc_10ng_TSVC_IonXpress_07.vcf'},\n",
       " {'Expectations': 12,\n",
       "  'False-Positive': 0,\n",
       "  'Sensitivity': 0.667,\n",
       "  'Specificity': 1.0,\n",
       "  'True-Positive': 8,\n",
       "  'VCF File': 'TFS.HZ.5.0.perc_10ng_TSVC_IonXpress_08.vcf'},\n",
       " {'Expectations': 12,\n",
       "  'False-Positive': 0,\n",
       "  'Sensitivity': 0.667,\n",
       "  'Specificity': 1.0,\n",
       "  'True-Positive': 8,\n",
       "  'VCF File': 'TFS.HZ.5.0.perc_20ng_TSVC_IonXpress_015.vcf'},\n",
       " {'Expectations': 12,\n",
       "  'False-Positive': 0,\n",
       "  'Sensitivity': 0.667,\n",
       "  'Specificity': 1.0,\n",
       "  'True-Positive': 8,\n",
       "  'VCF File': 'TFS.HZ.5.0.perc_20ng_TSVC_IonCodeTag_0107.vcf'},\n",
       " {'Expectations': 12,\n",
       "  'False-Positive': 0,\n",
       "  'Sensitivity': 0.667,\n",
       "  'Specificity': 1.0,\n",
       "  'True-Positive': 8,\n",
       "  'VCF File': 'TFS.HZ.5.0.perc_20ng_TSVC_IonCodeTag_0108.vcf'},\n",
       " {'Expectations': 12,\n",
       "  'False-Positive': 0,\n",
       "  'Sensitivity': 0.667,\n",
       "  'Specificity': 1.0,\n",
       "  'True-Positive': 8,\n",
       "  'VCF File': 'TFS.HZ.5.0.perc_20ng_TSVC_IonXpress_016.vcf'}]"
      ]
     },
     "execution_count": 12,
     "metadata": {},
     "output_type": "execute_result"
    }
   ],
   "source": [
    "table_metrics, data_metrics = bp.calculate_metrics_all_vcf(project, path, vcf_files)\n",
    "table_metrics"
   ]
  },
  {
   "cell_type": "code",
   "execution_count": 13,
   "metadata": {
    "collapsed": false
   },
   "outputs": [
    {
     "data": {
      "text/html": [
       "<table style><thead><th>VCF File</th><th>Expectations</th><th>True-Positive</th><th>False-Positive</th><th>Sensitivity</th><th>Specificity</th></thead><tr><td>TFS.HZ.5.0.perc_5ng_TSVC_IonXpress_05.vcf</td><td>8</td><td>8</td><td>0</td><td>1.0</td><td>1.0</td><tr><tr><td>TFS.HZ.5.0.perc_5ng_TSVC_IonXpress_06.vcf</td><td>8</td><td>8</td><td>0</td><td>1.0</td><td>1.0</td><tr><tr><td>TFS.HZ.5.0.perc_5ng_TSVC_IonCodeTag_0113.vcf</td><td>8</td><td>8</td><td>3</td><td>1.0</td><td>0.981</td><tr><tr><td>TFS.HZ.5.0.perc_5ng_TSVC_IonCodeTag_0114.vcf</td><td>8</td><td>8</td><td>3</td><td>1.0</td><td>0.981</td><tr><tr><td>TFS.HZ.5.0.perc_10ng_TSVC_IonCodeTag_0115.vcf</td><td>8</td><td>8</td><td>3</td><td>1.0</td><td>0.981</td><tr><tr><td>TFS.HZ.5.0.perc_10ng_TSVC_IonCodeTag_0116.vcf</td><td>8</td><td>8</td><td>5</td><td>1.0</td><td>0.969</td><tr><tr><td>TFS.HZ.5.0.perc_10ng_TSVC_IonXpress_07.vcf</td><td>8</td><td>8</td><td>0</td><td>1.0</td><td>1.0</td><tr><tr><td>TFS.HZ.5.0.perc_10ng_TSVC_IonXpress_08.vcf</td><td>8</td><td>8</td><td>0</td><td>1.0</td><td>1.0</td><tr><tr><td>TFS.HZ.5.0.perc_20ng_TSVC_IonXpress_015.vcf</td><td>8</td><td>8</td><td>0</td><td>1.0</td><td>1.0</td><tr><tr><td>TFS.HZ.5.0.perc_20ng_TSVC_IonCodeTag_0107.vcf</td><td>8</td><td>8</td><td>0</td><td>1.0</td><td>1.0</td><tr><tr><td>TFS.HZ.5.0.perc_20ng_TSVC_IonCodeTag_0108.vcf</td><td>8</td><td>8</td><td>0</td><td>1.0</td><td>1.0</td><tr><tr><td>TFS.HZ.5.0.perc_20ng_TSVC_IonXpress_016.vcf</td><td>8</td><td>8</td><td>0</td><td>1.0</td><td>1.0</td><tr></table>"
      ],
      "text/plain": [
       "[{'Expectations': 8,\n",
       "  'False-Positive': 0,\n",
       "  'Sensitivity': 1.0,\n",
       "  'Specificity': 1.0,\n",
       "  'True-Positive': 8,\n",
       "  'VCF File': 'TFS.HZ.5.0.perc_5ng_TSVC_IonXpress_05.vcf'},\n",
       " {'Expectations': 8,\n",
       "  'False-Positive': 0,\n",
       "  'Sensitivity': 1.0,\n",
       "  'Specificity': 1.0,\n",
       "  'True-Positive': 8,\n",
       "  'VCF File': 'TFS.HZ.5.0.perc_5ng_TSVC_IonXpress_06.vcf'},\n",
       " {'Expectations': 8,\n",
       "  'False-Positive': 3,\n",
       "  'Sensitivity': 1.0,\n",
       "  'Specificity': 0.981,\n",
       "  'True-Positive': 8,\n",
       "  'VCF File': 'TFS.HZ.5.0.perc_5ng_TSVC_IonCodeTag_0113.vcf'},\n",
       " {'Expectations': 8,\n",
       "  'False-Positive': 3,\n",
       "  'Sensitivity': 1.0,\n",
       "  'Specificity': 0.981,\n",
       "  'True-Positive': 8,\n",
       "  'VCF File': 'TFS.HZ.5.0.perc_5ng_TSVC_IonCodeTag_0114.vcf'},\n",
       " {'Expectations': 8,\n",
       "  'False-Positive': 3,\n",
       "  'Sensitivity': 1.0,\n",
       "  'Specificity': 0.981,\n",
       "  'True-Positive': 8,\n",
       "  'VCF File': 'TFS.HZ.5.0.perc_10ng_TSVC_IonCodeTag_0115.vcf'},\n",
       " {'Expectations': 8,\n",
       "  'False-Positive': 5,\n",
       "  'Sensitivity': 1.0,\n",
       "  'Specificity': 0.969,\n",
       "  'True-Positive': 8,\n",
       "  'VCF File': 'TFS.HZ.5.0.perc_10ng_TSVC_IonCodeTag_0116.vcf'},\n",
       " {'Expectations': 8,\n",
       "  'False-Positive': 0,\n",
       "  'Sensitivity': 1.0,\n",
       "  'Specificity': 1.0,\n",
       "  'True-Positive': 8,\n",
       "  'VCF File': 'TFS.HZ.5.0.perc_10ng_TSVC_IonXpress_07.vcf'},\n",
       " {'Expectations': 8,\n",
       "  'False-Positive': 0,\n",
       "  'Sensitivity': 1.0,\n",
       "  'Specificity': 1.0,\n",
       "  'True-Positive': 8,\n",
       "  'VCF File': 'TFS.HZ.5.0.perc_10ng_TSVC_IonXpress_08.vcf'},\n",
       " {'Expectations': 8,\n",
       "  'False-Positive': 0,\n",
       "  'Sensitivity': 1.0,\n",
       "  'Specificity': 1.0,\n",
       "  'True-Positive': 8,\n",
       "  'VCF File': 'TFS.HZ.5.0.perc_20ng_TSVC_IonXpress_015.vcf'},\n",
       " {'Expectations': 8,\n",
       "  'False-Positive': 0,\n",
       "  'Sensitivity': 1.0,\n",
       "  'Specificity': 1.0,\n",
       "  'True-Positive': 8,\n",
       "  'VCF File': 'TFS.HZ.5.0.perc_20ng_TSVC_IonCodeTag_0107.vcf'},\n",
       " {'Expectations': 8,\n",
       "  'False-Positive': 0,\n",
       "  'Sensitivity': 1.0,\n",
       "  'Specificity': 1.0,\n",
       "  'True-Positive': 8,\n",
       "  'VCF File': 'TFS.HZ.5.0.perc_20ng_TSVC_IonCodeTag_0108.vcf'},\n",
       " {'Expectations': 8,\n",
       "  'False-Positive': 0,\n",
       "  'Sensitivity': 1.0,\n",
       "  'Specificity': 1.0,\n",
       "  'True-Positive': 8,\n",
       "  'VCF File': 'TFS.HZ.5.0.perc_20ng_TSVC_IonXpress_016.vcf'}]"
      ]
     },
     "execution_count": 13,
     "metadata": {},
     "output_type": "execute_result"
    }
   ],
   "source": [
    "baseline_vcf = 'TFS.HZ.0.0.perc_20ng_TSVC_IonCodeTag_0101.vcf'\n",
    "table_filter_metrics, data_filter_metrics = bp.calculate_metrics_all_vcf(project, path, vcf_files, baseline_vcf)\n",
    "table_filter_metrics"
   ]
  },
  {
   "cell_type": "code",
   "execution_count": 14,
   "metadata": {
    "collapsed": false,
    "scrolled": true
   },
   "outputs": [
    {
     "data": {
      "image/png": "[encoded data removed]",
      "text/plain": [
       "<matplotlib.figure.Figure at 0x7fce42803190>"
      ]
     },
     "metadata": {},
     "output_type": "display_data"
    }
   ],
   "source": [
    "bp.plot_metrics(data_metrics, data_filter_metrics)"
   ]
  },
  {
   "cell_type": "code",
   "execution_count": null,
   "metadata": {
    "collapsed": true
   },
   "outputs": [],
   "source": []
  }
 ],
 "metadata": {
  "anaconda-cloud": {},
  "kernelspec": {
   "display_name": "Python 2",
   "language": "python",
   "name": "python2"
  },
  "language_info": {
   "codemirror_mode": {
    "name": "ipython",
    "version": 2
   },
   "file_extension": ".py",
   "mimetype": "text/x-python",
   "name": "python",
   "nbconvert_exporter": "python",
   "pygments_lexer": "ipython2",
   "version": "2.7.6"
  }
 },
 "nbformat": 4,
 "nbformat_minor": 0
}
