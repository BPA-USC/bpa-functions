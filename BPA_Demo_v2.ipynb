{
 "cells": [
  {
   "cell_type": "markdown",
   "metadata": {
    "deletable": true,
    "editable": true
   },
   "source": [
    "# Sensitivity/Specificity analysis demo"
   ]
  },
  {
   "cell_type": "markdown",
   "metadata": {
    "deletable": true,
    "editable": true
   },
   "source": [
    "First, we configure several variables we are using during this demo: project id, S3 profile and VM path to save data files from the S3 bucket: "
   ]
  },
  {
   "cell_type": "code",
   "execution_count": null,
   "metadata": {
    "collapsed": false,
    "deletable": true,
    "editable": true
   },
   "outputs": [],
   "source": [
    "from cdispyutils.hmac4 import get_auth\n",
    "import json\n",
    "import requests\n",
    "project = 'bpa-ThermoFisher_P0001_T1'\n",
    "profile = 'bloodpac'\n",
    "path    = 'files/'"
   ]
  },
  {
   "cell_type": "markdown",
   "metadata": {
    "deletable": true,
    "editable": true
   },
   "source": [
    "These are some examples of queries to directly interact with the API to get some metadata:"
   ]
  },
  {
   "cell_type": "code",
   "execution_count": null,
   "metadata": {
    "collapsed": false,
    "deletable": true,
    "editable": true
   },
   "outputs": [],
   "source": [
    "with open('/home/ubuntu/.secrets','r') as f:\n",
    "    secrets = json.load(f)\n",
    "auth = get_auth(secrets['access_key'], secrets['secret_key'], 'submission')"
   ]
  },
  {
   "cell_type": "code",
   "execution_count": null,
   "metadata": {
    "collapsed": false,
    "deletable": true,
    "editable": true
   },
   "outputs": [],
   "source": [
    "print requests.get('http://kubenode.internal.io:30004/v0/submission', auth=auth).text\n",
    "print requests.get('http://kubenode.internal.io:30004/v0/submission/bpa/', auth=auth).text"
   ]
  },
  {
   "cell_type": "code",
   "execution_count": null,
   "metadata": {
    "collapsed": false,
    "deletable": true,
    "editable": true
   },
   "outputs": [],
   "source": [
    "data = {'query': \"\"\"query Test {sample (project_id: \"bpa-ThermoFisher_P0001_T1\", submitter_id: \"BPA-THERMOFISHER_P0001-S1\") {   \n",
    "                                 _aliquots_count \n",
    "                                 aliquots { \n",
    "                                     aliquot_concentration  \n",
    "                                     _read_groups_count \n",
    "                                     read_groups {\n",
    "                                        _submitted_somatic_mutations_count \n",
    "                                        submitted_somatic_mutations {\n",
    "                                            file_name\n",
    "                                        }\n",
    "                                     } \n",
    "                                 } \n",
    "                                }\n",
    "                            } \"\"\"};\n",
    "print requests.post('http://kubenode.internal.io:30004/v0/submission/graphql/', auth=auth, json=data).text"
   ]
  },
  {
   "cell_type": "markdown",
   "metadata": {
    "deletable": true,
    "editable": true
   },
   "source": [
    "Import the Python library with functionality to explore metadata and make some data analyses. Also, add our authentication file to the library. "
   ]
  },
  {
   "cell_type": "code",
   "execution_count": null,
   "metadata": {
    "collapsed": false,
    "deletable": true,
    "editable": true
   },
   "outputs": [],
   "source": [
    "import bpa_analysis_functions_v2 as bp\n",
    "bp.add_keys('/home/ubuntu/.secrets')"
   ]
  },
  {
   "cell_type": "markdown",
   "metadata": {
    "deletable": true,
    "editable": true
   },
   "source": [
    "First, we show some functions to explore information in the project's metadata. For instance, list samples for this project:"
   ]
  },
  {
   "cell_type": "code",
   "execution_count": null,
   "metadata": {
    "collapsed": false,
    "deletable": true,
    "editable": true
   },
   "outputs": [],
   "source": [
    "samples = bp.list_samples(project)\n",
    "samples"
   ]
  },
  {
   "cell_type": "markdown",
   "metadata": {
    "deletable": true,
    "editable": true
   },
   "source": [
    "List and count file types contained in this project"
   ]
  },
  {
   "cell_type": "code",
   "execution_count": null,
   "metadata": {
    "collapsed": false,
    "deletable": true,
    "editable": true
   },
   "outputs": [],
   "source": [
    "vcf_files = bp.list_files_by_type(project,'VCF', samples[1])\n",
    "vcf_files"
   ]
  },
  {
   "cell_type": "code",
   "execution_count": null,
   "metadata": {
    "collapsed": false,
    "deletable": true,
    "editable": true
   },
   "outputs": [],
   "source": [
    "counts = bp.count_file_types(project, samples[1])\n",
    "counts"
   ]
  },
  {
   "cell_type": "markdown",
   "metadata": {
    "deletable": true,
    "editable": true
   },
   "source": [
    "Get expected mutations from sample-expectation metadata and gather them by chromosome:"
   ]
  },
  {
   "cell_type": "code",
   "execution_count": null,
   "metadata": {
    "collapsed": false,
    "deletable": true,
    "editable": true
   },
   "outputs": [],
   "source": [
    "summary = bp.query_summary_field(\"sample_expectation\", \"expected_mutation_gene\")\n",
    "summary"
   ]
  },
  {
   "cell_type": "markdown",
   "metadata": {
    "deletable": true,
    "editable": true
   },
   "source": [
    "Now, we use additional functions to show how we can analyze data from one specific project in BloodPAC containing expected mutations from contrived samples and resulting VCF files. \n",
    "\n",
    "Transfer VCF files from S3 bucket to our VM directory:"
   ]
  },
  {
   "cell_type": "code",
   "execution_count": null,
   "metadata": {
    "collapsed": false,
    "deletable": true,
    "editable": true
   },
   "outputs": [],
   "source": [
    "bp.get_files_from_bucket(project, profile, path, '*.vcf')"
   ]
  },
  {
   "cell_type": "markdown",
   "metadata": {
    "deletable": true,
    "editable": true
   },
   "source": [
    "Calculate sensitivity and sensitivity values for one example VCF:"
   ]
  },
  {
   "cell_type": "code",
   "execution_count": null,
   "metadata": {
    "collapsed": false,
    "deletable": true,
    "editable": true
   },
   "outputs": [],
   "source": [
    "sample = samples[1]\n",
    "vcf_file = vcf_files[sample][2]\n",
    "metrics = bp.calculate_metrics_vcf(project, path, vcf_file, sample)\n",
    "metrics"
   ]
  },
  {
   "cell_type": "markdown",
   "metadata": {
    "deletable": true,
    "editable": true
   },
   "source": [
    "Calculate sensitivity and sensitivity values for all VCFs in the project:"
   ]
  },
  {
   "cell_type": "code",
   "execution_count": null,
   "metadata": {
    "collapsed": false,
    "deletable": true,
    "editable": true
   },
   "outputs": [],
   "source": [
    "table_metrics, data_metrics = bp.calculate_metrics_all_vcf(project, path, vcf_files)\n",
    "table_metrics"
   ]
  },
  {
   "cell_type": "code",
   "execution_count": null,
   "metadata": {
    "collapsed": false,
    "deletable": true,
    "editable": true
   },
   "outputs": [],
   "source": [
    "baseline_vcf = 'TFS.HZ.0.0.perc_20ng_TSVC_IonCodeTag_0101.vcf'\n",
    "table_filter_metrics, data_filter_metrics = bp.calculate_metrics_all_vcf(project, path, vcf_files, baseline_vcf)\n",
    "table_filter_metrics"
   ]
  },
  {
   "cell_type": "markdown",
   "metadata": {
    "collapsed": true,
    "deletable": true,
    "editable": true
   },
   "source": [
    "We finally show how results can be easily visualized in simple plots:"
   ]
  },
  {
   "cell_type": "code",
   "execution_count": null,
   "metadata": {
    "collapsed": false,
    "deletable": true,
    "editable": true,
    "scrolled": true
   },
   "outputs": [],
   "source": [
    "bp.plot_metrics(data_metrics, data_filter_metrics)"
   ]
  },
  {
   "cell_type": "code",
   "execution_count": null,
   "metadata": {
    "collapsed": true,
    "deletable": true,
    "editable": true
   },
   "outputs": [],
   "source": []
  }
 ],
 "metadata": {
  "anaconda-cloud": {},
  "kernelspec": {
   "display_name": "Python 2",
   "language": "python",
   "name": "python2"
  },
  "language_info": {
   "codemirror_mode": {
    "name": "ipython",
    "version": 2
   },
   "file_extension": ".py",
   "mimetype": "text/x-python",
   "name": "python",
   "nbconvert_exporter": "python",
   "pygments_lexer": "ipython2",
   "version": "2.7.6"
  }
 },
 "nbformat": 4,
 "nbformat_minor": 0
}
